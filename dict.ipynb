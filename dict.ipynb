{
 "cells": [
  {
   "cell_type": "markdown",
   "id": "535248e1-9a83-41ec-a5dd-535586ba67d3",
   "metadata": {},
   "source": [
    "## 辞書型の内包表現"
   ]
  },
  {
   "cell_type": "code",
   "execution_count": 1,
   "id": "da53250d-c513-4ec1-9b2e-cc2a034879ec",
   "metadata": {},
   "outputs": [
    {
     "name": "stdout",
     "output_type": "stream",
     "text": [
      "{'banana': 6, 'apple': 5, 'strawberry': 10}\n"
     ]
    }
   ],
   "source": [
    "dic1 = {\n",
    "            category:len(category)\n",
    "                for category in ['banana', 'apple', 'strawberry']\n",
    "}\n",
    "    \n",
    "print(dic1)"
   ]
  },
  {
   "cell_type": "code",
   "execution_count": 2,
   "id": "be6b634b-305f-4a5d-b807-33d7e67d0e09",
   "metadata": {},
   "outputs": [
    {
     "name": "stdout",
     "output_type": "stream",
     "text": [
      "{'orange': 100}\n"
     ]
    }
   ],
   "source": [
    "dic2 = {'orange':100}\n",
    "\n",
    "print(dic2)"
   ]
  },
  {
   "cell_type": "markdown",
   "id": "be1eac07-1b99-42b8-9694-2393950b4506",
   "metadata": {},
   "source": [
    "## アスタリスクを使った辞書型の結合"
   ]
  },
  {
   "cell_type": "code",
   "execution_count": 3,
   "id": "968c5272-5beb-46c5-9ce5-b1b86a223a98",
   "metadata": {},
   "outputs": [
    {
     "data": {
      "text/plain": [
       "{'banana': 6, 'apple': 5, 'strawberry': 10, 'orange': 100}"
      ]
     },
     "execution_count": 3,
     "metadata": {},
     "output_type": "execute_result"
    }
   ],
   "source": [
    "{**dic1, **dic2}"
   ]
  },
  {
   "cell_type": "code",
   "execution_count": 4,
   "id": "1fd93649-42e3-41d2-bf20-6bda75b8b971",
   "metadata": {},
   "outputs": [
    {
     "data": {
      "text/plain": [
       "{'banana': 6, 'apple': 5, 'strawberry': 10, 'lemon': 50}"
      ]
     },
     "execution_count": 4,
     "metadata": {},
     "output_type": "execute_result"
    }
   ],
   "source": [
    "{**dic1, 'lemon':50}"
   ]
  },
  {
   "cell_type": "markdown",
   "id": "5d67edb3-ce99-4303-bbf7-059d0ee6c99f",
   "metadata": {},
   "source": [
    "## update をつかった辞書型の結合"
   ]
  },
  {
   "cell_type": "code",
   "execution_count": 5,
   "id": "ded835eb-e756-4a53-b9ae-4e1dddec6864",
   "metadata": {},
   "outputs": [
    {
     "name": "stdout",
     "output_type": "stream",
     "text": [
      "{'banana': 6, 'apple': 5, 'strawberry': 10, 'orange': 100}\n"
     ]
    }
   ],
   "source": [
    "import copy\n",
    "\n",
    "dic3 = copy.copy(dic1)\n",
    "\n",
    "dic3.update(dic2)\n",
    "\n",
    "print(dic3)"
   ]
  },
  {
   "cell_type": "markdown",
   "id": "e0e9d857-fa7a-4139-b34c-9a0a736478de",
   "metadata": {},
   "source": [
    "## マージ演算子"
   ]
  },
  {
   "cell_type": "code",
   "execution_count": 6,
   "id": "47a1757f-22ea-44d6-9fda-e3feb861cbe9",
   "metadata": {},
   "outputs": [
    {
     "name": "stdout",
     "output_type": "stream",
     "text": [
      "Python 3.9.7\n"
     ]
    }
   ],
   "source": [
    "!python --version"
   ]
  },
  {
   "cell_type": "code",
   "execution_count": 7,
   "id": "bd5ce265-c581-438a-a63b-a4c214161226",
   "metadata": {},
   "outputs": [
    {
     "data": {
      "text/plain": [
       "{'banana': 6, 'apple': 5, 'strawberry': 10, 'orange': 100}"
      ]
     },
     "execution_count": 7,
     "metadata": {},
     "output_type": "execute_result"
    }
   ],
   "source": [
    "dic1 | dic2"
   ]
  },
  {
   "cell_type": "markdown",
   "id": "848a21ac-20c4-4a66-8016-a39417e54e40",
   "metadata": {},
   "source": [
    "## 大きめのデータで処理速度を比較"
   ]
  },
  {
   "cell_type": "code",
   "execution_count": 8,
   "id": "df4a68a4-5771-46fb-a6ec-7dc586f8c5a0",
   "metadata": {},
   "outputs": [
    {
     "name": "stdout",
     "output_type": "stream",
     "text": [
      "(30490, 200)\n"
     ]
    },
    {
     "data": {
      "text/html": [
       "<div>\n",
       "<style scoped>\n",
       "    .dataframe tbody tr th:only-of-type {\n",
       "        vertical-align: middle;\n",
       "    }\n",
       "\n",
       "    .dataframe tbody tr th {\n",
       "        vertical-align: top;\n",
       "    }\n",
       "\n",
       "    .dataframe thead th {\n",
       "        text-align: right;\n",
       "    }\n",
       "</style>\n",
       "<table border=\"1\" class=\"dataframe\">\n",
       "  <thead>\n",
       "    <tr style=\"text-align: right;\">\n",
       "      <th></th>\n",
       "      <th>id</th>\n",
       "      <th>item_id</th>\n",
       "      <th>dept_id</th>\n",
       "      <th>cat_id</th>\n",
       "      <th>store_id</th>\n",
       "      <th>state_id</th>\n",
       "      <th>d_1</th>\n",
       "      <th>d_2</th>\n",
       "      <th>d_3</th>\n",
       "      <th>d_4</th>\n",
       "      <th>...</th>\n",
       "      <th>d_185</th>\n",
       "      <th>d_186</th>\n",
       "      <th>d_187</th>\n",
       "      <th>d_188</th>\n",
       "      <th>d_189</th>\n",
       "      <th>d_190</th>\n",
       "      <th>d_191</th>\n",
       "      <th>d_192</th>\n",
       "      <th>d_193</th>\n",
       "      <th>d_194</th>\n",
       "    </tr>\n",
       "  </thead>\n",
       "  <tbody>\n",
       "    <tr>\n",
       "      <th>0</th>\n",
       "      <td>HOBBIES_1_001_CA_1_validation</td>\n",
       "      <td>HOBBIES_1_001</td>\n",
       "      <td>HOBBIES_1</td>\n",
       "      <td>HOBBIES</td>\n",
       "      <td>CA_1</td>\n",
       "      <td>CA</td>\n",
       "      <td>0</td>\n",
       "      <td>0</td>\n",
       "      <td>0</td>\n",
       "      <td>0</td>\n",
       "      <td>...</td>\n",
       "      <td>0</td>\n",
       "      <td>0</td>\n",
       "      <td>0</td>\n",
       "      <td>0</td>\n",
       "      <td>0</td>\n",
       "      <td>0</td>\n",
       "      <td>0</td>\n",
       "      <td>0</td>\n",
       "      <td>0</td>\n",
       "      <td>0</td>\n",
       "    </tr>\n",
       "    <tr>\n",
       "      <th>1</th>\n",
       "      <td>HOBBIES_1_002_CA_1_validation</td>\n",
       "      <td>HOBBIES_1_002</td>\n",
       "      <td>HOBBIES_1</td>\n",
       "      <td>HOBBIES</td>\n",
       "      <td>CA_1</td>\n",
       "      <td>CA</td>\n",
       "      <td>0</td>\n",
       "      <td>0</td>\n",
       "      <td>0</td>\n",
       "      <td>0</td>\n",
       "      <td>...</td>\n",
       "      <td>0</td>\n",
       "      <td>0</td>\n",
       "      <td>0</td>\n",
       "      <td>1</td>\n",
       "      <td>0</td>\n",
       "      <td>0</td>\n",
       "      <td>1</td>\n",
       "      <td>0</td>\n",
       "      <td>0</td>\n",
       "      <td>0</td>\n",
       "    </tr>\n",
       "    <tr>\n",
       "      <th>2</th>\n",
       "      <td>HOBBIES_1_003_CA_1_validation</td>\n",
       "      <td>HOBBIES_1_003</td>\n",
       "      <td>HOBBIES_1</td>\n",
       "      <td>HOBBIES</td>\n",
       "      <td>CA_1</td>\n",
       "      <td>CA</td>\n",
       "      <td>0</td>\n",
       "      <td>0</td>\n",
       "      <td>0</td>\n",
       "      <td>0</td>\n",
       "      <td>...</td>\n",
       "      <td>0</td>\n",
       "      <td>0</td>\n",
       "      <td>0</td>\n",
       "      <td>0</td>\n",
       "      <td>0</td>\n",
       "      <td>0</td>\n",
       "      <td>0</td>\n",
       "      <td>0</td>\n",
       "      <td>0</td>\n",
       "      <td>0</td>\n",
       "    </tr>\n",
       "    <tr>\n",
       "      <th>3</th>\n",
       "      <td>HOBBIES_1_004_CA_1_validation</td>\n",
       "      <td>HOBBIES_1_004</td>\n",
       "      <td>HOBBIES_1</td>\n",
       "      <td>HOBBIES</td>\n",
       "      <td>CA_1</td>\n",
       "      <td>CA</td>\n",
       "      <td>0</td>\n",
       "      <td>0</td>\n",
       "      <td>0</td>\n",
       "      <td>0</td>\n",
       "      <td>...</td>\n",
       "      <td>1</td>\n",
       "      <td>1</td>\n",
       "      <td>2</td>\n",
       "      <td>1</td>\n",
       "      <td>2</td>\n",
       "      <td>3</td>\n",
       "      <td>1</td>\n",
       "      <td>2</td>\n",
       "      <td>0</td>\n",
       "      <td>0</td>\n",
       "    </tr>\n",
       "    <tr>\n",
       "      <th>4</th>\n",
       "      <td>HOBBIES_1_005_CA_1_validation</td>\n",
       "      <td>HOBBIES_1_005</td>\n",
       "      <td>HOBBIES_1</td>\n",
       "      <td>HOBBIES</td>\n",
       "      <td>CA_1</td>\n",
       "      <td>CA</td>\n",
       "      <td>0</td>\n",
       "      <td>0</td>\n",
       "      <td>0</td>\n",
       "      <td>0</td>\n",
       "      <td>...</td>\n",
       "      <td>3</td>\n",
       "      <td>2</td>\n",
       "      <td>0</td>\n",
       "      <td>0</td>\n",
       "      <td>0</td>\n",
       "      <td>0</td>\n",
       "      <td>0</td>\n",
       "      <td>0</td>\n",
       "      <td>0</td>\n",
       "      <td>2</td>\n",
       "    </tr>\n",
       "  </tbody>\n",
       "</table>\n",
       "<p>5 rows × 200 columns</p>\n",
       "</div>"
      ],
      "text/plain": [
       "                              id        item_id    dept_id   cat_id store_id  \\\n",
       "0  HOBBIES_1_001_CA_1_validation  HOBBIES_1_001  HOBBIES_1  HOBBIES     CA_1   \n",
       "1  HOBBIES_1_002_CA_1_validation  HOBBIES_1_002  HOBBIES_1  HOBBIES     CA_1   \n",
       "2  HOBBIES_1_003_CA_1_validation  HOBBIES_1_003  HOBBIES_1  HOBBIES     CA_1   \n",
       "3  HOBBIES_1_004_CA_1_validation  HOBBIES_1_004  HOBBIES_1  HOBBIES     CA_1   \n",
       "4  HOBBIES_1_005_CA_1_validation  HOBBIES_1_005  HOBBIES_1  HOBBIES     CA_1   \n",
       "\n",
       "  state_id  d_1  d_2  d_3  d_4  ...  d_185  d_186  d_187  d_188  d_189  d_190  \\\n",
       "0       CA    0    0    0    0  ...      0      0      0      0      0      0   \n",
       "1       CA    0    0    0    0  ...      0      0      0      1      0      0   \n",
       "2       CA    0    0    0    0  ...      0      0      0      0      0      0   \n",
       "3       CA    0    0    0    0  ...      1      1      2      1      2      3   \n",
       "4       CA    0    0    0    0  ...      3      2      0      0      0      0   \n",
       "\n",
       "   d_191  d_192  d_193  d_194  \n",
       "0      0      0      0      0  \n",
       "1      1      0      0      0  \n",
       "2      0      0      0      0  \n",
       "3      1      2      0      0  \n",
       "4      0      0      0      2  \n",
       "\n",
       "[5 rows x 200 columns]"
      ]
     },
     "metadata": {},
     "output_type": "display_data"
    }
   ],
   "source": [
    "import pandas as pd\n",
    "import time\n",
    "\n",
    "df = pd.read_csv(\"sales_train_validation.csv\")\n",
    "df = df.iloc[:, :200]\n",
    "\n",
    "print(df.shape)\n",
    "display(df.head())"
   ]
  },
  {
   "cell_type": "markdown",
   "id": "e88804d9-72db-43ff-95fd-1dd035a5bcab",
   "metadata": {},
   "source": [
    "## アスタリスク"
   ]
  },
  {
   "cell_type": "code",
   "execution_count": 9,
   "id": "a94f69e2-5f04-447f-96dc-1c7fc45c391d",
   "metadata": {
    "tags": []
   },
   "outputs": [
    {
     "name": "stdout",
     "output_type": "stream",
     "text": [
      "elapsed_time:35.1[sec]\n"
     ]
    }
   ],
   "source": [
    "start = time.time()\n",
    "\n",
    "dic4 = {}\n",
    "\n",
    "for column in df.columns:\n",
    "    \n",
    "    dic_tmp = {column+str(k):v for k,v in df[column].to_dict().items()}\n",
    "    \n",
    "    dic4 = {**dic4, **dic_tmp}\n",
    "    \n",
    "print(f\"elapsed_time:{round((time.time() - start), 1)}[sec]\")"
   ]
  },
  {
   "cell_type": "markdown",
   "id": "a5ffc503-8ec1-483a-b013-f44df285a878",
   "metadata": {},
   "source": [
    "## update"
   ]
  },
  {
   "cell_type": "code",
   "execution_count": 10,
   "id": "28771852-67eb-40ac-bdfe-6876633ca632",
   "metadata": {
    "tags": []
   },
   "outputs": [
    {
     "name": "stdout",
     "output_type": "stream",
     "text": [
      "elapsed_time:2.7[sec]\n"
     ]
    }
   ],
   "source": [
    "start = time.time()\n",
    "\n",
    "dic4 = {}\n",
    "\n",
    "for column in df.columns:\n",
    "    \n",
    "    dic_tmp = {column+str(k):v for k,v in df[column].to_dict().items()}\n",
    "    \n",
    "    dic4.update(dic_tmp)\n",
    "    \n",
    "print(f\"elapsed_time:{round((time.time() - start), 1)}[sec]\")"
   ]
  },
  {
   "cell_type": "markdown",
   "id": "ec303a1e-a191-4038-b48f-5b2ce7414370",
   "metadata": {},
   "source": [
    "## マージ演算子"
   ]
  },
  {
   "cell_type": "code",
   "execution_count": 11,
   "id": "f52abece-6ec5-4234-8e16-9f721faa9b0d",
   "metadata": {
    "tags": []
   },
   "outputs": [
    {
     "name": "stdout",
     "output_type": "stream",
     "text": [
      "elapsed_time:7.5[sec]\n"
     ]
    }
   ],
   "source": [
    "start = time.time()\n",
    "\n",
    "dic4 = {}\n",
    "\n",
    "for column in df.columns:\n",
    "    \n",
    "    dic_tmp = {column+str(k):v for k,v in df[column].to_dict().items()}\n",
    "    \n",
    "    dic4 = dic4 | dic_tmp\n",
    "    \n",
    "print(f\"elapsed_time:{round((time.time() - start), 1)}[sec]\")"
   ]
  }
 ],
 "metadata": {
  "kernelspec": {
   "display_name": "Python 3 (ipykernel)",
   "language": "python",
   "name": "python3"
  },
  "language_info": {
   "codemirror_mode": {
    "name": "ipython",
    "version": 3
   },
   "file_extension": ".py",
   "mimetype": "text/x-python",
   "name": "python",
   "nbconvert_exporter": "python",
   "pygments_lexer": "ipython3",
   "version": "3.9.7"
  }
 },
 "nbformat": 4,
 "nbformat_minor": 5
}
